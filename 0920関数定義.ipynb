{
  "nbformat": 4,
  "nbformat_minor": 0,
  "metadata": {
    "colab": {
      "provenance": [],
      "authorship_tag": "ABX9TyMQQEb4BMJ+L5kWlhSs7NNK",
      "include_colab_link": true
    },
    "kernelspec": {
      "name": "python3",
      "display_name": "Python 3"
    },
    "language_info": {
      "name": "python"
    }
  },
  "cells": [
    {
      "cell_type": "markdown",
      "metadata": {
        "id": "view-in-github",
        "colab_type": "text"
      },
      "source": [
        "<a href=\"https://colab.research.google.com/github/nogutikeisuke/DeepLearninng2022Late/blob/main/0920%E9%96%A2%E6%95%B0%E5%AE%9A%E7%BE%A9.ipynb\" target=\"_parent\"><img src=\"https://colab.research.google.com/assets/colab-badge.svg\" alt=\"Open In Colab\"/></a>"
      ]
    },
    {
      "cell_type": "markdown",
      "source": [
        "# python3で関数を定義する\n",
        "\n",
        "## 関数定義##"
      ],
      "metadata": {
        "id": "Asj_dj-nbVb8"
      }
    },
    {
      "cell_type": "code",
      "source": [
        "# helloという関数を定義する\n",
        "# \"hello,kansuu!\"と画面表示する関数\n",
        "def hello( ):\n",
        "  print('hello,kansuu!') #インデントされている\n",
        "  #インデントされている命令文などは関数の範囲の中\n",
        "print('test message!')#インデントされていない\n",
        "#インデントされていない命令文などは関数の範囲の外"
      ],
      "metadata": {
        "colab": {
          "base_uri": "https://localhost:8080/"
        },
        "id": "dbVjQWTSbb-F",
        "outputId": "c8135525-e33c-4421-99e6-42ddefe1629d"
      },
      "execution_count": 2,
      "outputs": [
        {
          "output_type": "stream",
          "name": "stdout",
          "text": [
            "test message!\n"
          ]
        }
      ]
    },
    {
      "cell_type": "markdown",
      "source": [
        "## 関数を実行する##"
      ],
      "metadata": {
        "id": "j4_3FD5Ad6uF"
      }
    },
    {
      "cell_type": "code",
      "source": [
        "# 作成した関数hello()をコールする\n",
        "hello( )\n",
        "hello( )"
      ],
      "metadata": {
        "colab": {
          "base_uri": "https://localhost:8080/"
        },
        "id": "63NtmMCoeALE",
        "outputId": "e51c1b66-dec1-4c3a-f051-801e3e912b90"
      },
      "execution_count": 4,
      "outputs": [
        {
          "output_type": "stream",
          "name": "stdout",
          "text": [
            "hello,kansuu!\n",
            "hello,kansuu!\n"
          ]
        }
      ]
    },
    {
      "cell_type": "markdown",
      "source": [
        "## 引数付きの関数を定義する"
      ],
      "metadata": {
        "id": "4sEuOZCkeoij"
      }
    },
    {
      "cell_type": "code",
      "source": [
        "# 引数付き野関数 hello( ) を定義\n",
        "def hello(who):\n",
        "  print('hello,' + who + '!')\n",
        "# ここが関数の終わり\n",
        "\n",
        "hello('python!')"
      ],
      "metadata": {
        "colab": {
          "base_uri": "https://localhost:8080/"
        },
        "id": "5MpnHPAqeSsX",
        "outputId": "5fd91d64-4ff6-4c0a-c319-550a29aa587d"
      },
      "execution_count": 5,
      "outputs": [
        {
          "output_type": "stream",
          "name": "stdout",
          "text": [
            "hello,python!!\n"
          ]
        }
      ]
    },
    {
      "cell_type": "markdown",
      "source": [
        "### 複数の引数付き関数を定義"
      ],
      "metadata": {
        "id": "0-kDqgargLYb"
      }
    },
    {
      "cell_type": "code",
      "source": [
        "def hello(who,aisatsu):\n",
        "  print('hello,' + who + 'さん' + aisatsu )\n",
        "# 関数終わり\n",
        "\n",
        "hello('田中','おはよう')\n",
        "hello('鈴木','こんにちは')"
      ],
      "metadata": {
        "colab": {
          "base_uri": "https://localhost:8080/"
        },
        "id": "PbzlqLq_frQ2",
        "outputId": "a296123f-5717-4a16-e496-d7c2a5d63512"
      },
      "execution_count": 7,
      "outputs": [
        {
          "output_type": "stream",
          "name": "stdout",
          "text": [
            "hello,田中さんおはよう\n",
            "hello,鈴木さんこんにちは\n"
          ]
        }
      ]
    },
    {
      "cell_type": "markdown",
      "source": [
        "## 関数の戻り値を定義する\n",
        "\n",
        "###戻り値1つの関数を定義"
      ],
      "metadata": {
        "id": "zHDYsEgohxgB"
      }
    },
    {
      "cell_type": "code",
      "source": [
        "def helloBack(who,aisatsu):\n",
        "  return who + 'さん、' + aisatsu\n",
        "#関数終わり\n",
        "\n",
        "# 戻り値を変数xに代入して表示\n",
        "x = helloBack('佐藤','こんばんは')\n",
        "print(x)"
      ],
      "metadata": {
        "colab": {
          "base_uri": "https://localhost:8080/"
        },
        "id": "Koydb-_WhOc_",
        "outputId": "1ee71f5d-1ae0-49e7-81cc-ae7ef00cdced"
      },
      "execution_count": 9,
      "outputs": [
        {
          "output_type": "stream",
          "name": "stdout",
          "text": [
            "佐藤さん、こんばんは\n"
          ]
        }
      ]
    },
    {
      "cell_type": "markdown",
      "source": [
        "## 複数の戻り値を返す関数を定義"
      ],
      "metadata": {
        "id": "7r-1cpPkjSkO"
      }
    },
    {
      "cell_type": "code",
      "source": [
        "def keisan(x,y):\n",
        "  # x,y,x+y この3つの値を返す\n",
        "  return x,y,x+y\n",
        "# 関数終わり\n",
        "\n",
        "# 関数eisanを実行して戻り値を受け取る\n",
        "e,f,g = keisan(3,6)# 戻り値が3,6,9になる\n",
        "print(e,f,g)"
      ],
      "metadata": {
        "colab": {
          "base_uri": "https://localhost:8080/"
        },
        "id": "g3ITWcemie8_",
        "outputId": "4a3248ba-6193-4b2f-d014-f2cc94706696"
      },
      "execution_count": 13,
      "outputs": [
        {
          "output_type": "stream",
          "name": "stdout",
          "text": [
            "3 6 9\n"
          ]
        }
      ]
    },
    {
      "cell_type": "markdown",
      "source": [
        "# その他の文法\n",
        "## 分岐（if文）"
      ],
      "metadata": {
        "id": "J7bRI7z2lPyB"
      }
    },
    {
      "cell_type": "code",
      "source": [
        "# if文の範囲もインデントで表す\n",
        "# numの値を閾値で分岐する\n",
        "def over(num,thres):\n",
        "  if num > thres:# numが閾値より大きいとき \n",
        "    print(str(num) + 'は' +  str(thres) + 'より大きい')\n",
        "  else:\n",
        "    print(str(num) + 'は' + str(thres) + '以下です')\n",
        "  # 分岐の終わり\n",
        "# 関数の終わり\n",
        "\n",
        "over(333,100)\n",
        "over(-1,10)"
      ],
      "metadata": {
        "colab": {
          "base_uri": "https://localhost:8080/"
        },
        "id": "xQ8_BGiIj3hT",
        "outputId": "7876976c-b641-4305-9581-d89b407b802c"
      },
      "execution_count": 14,
      "outputs": [
        {
          "output_type": "stream",
          "name": "stdout",
          "text": [
            "333は100より大きい\n",
            "-1は10以下です\n"
          ]
        }
      ]
    },
    {
      "cell_type": "code",
      "source": [
        "# リストに第２引数の値が含まれるか判定\n",
        "def include(list,keyword):\n",
        "  uniq = set(list)# リストを集合に変換\n",
        "  if keyword in uniq:\n",
        "    print(keyword + 'が含まれる')\n",
        "  else:\n",
        "    print(keyword + 'が含まれない')\n",
        "  # 分岐の終わり\n",
        "# 関数の終わり\n",
        "\n",
        "# リストを引き渡して作成した関数実行する\n",
        "list_1 = ['アップル','ペン','ペン','パイナップル']# 第一引数に使うリスト\n",
        "include(list_1,'パイナップル')\n",
        "include(list_1,'バナナ')"
      ],
      "metadata": {
        "colab": {
          "base_uri": "https://localhost:8080/"
        },
        "id": "EPCUvMNWn2xp",
        "outputId": "fa253150-7a93-4254-ea14-d2d27b83faab"
      },
      "execution_count": 15,
      "outputs": [
        {
          "output_type": "stream",
          "name": "stdout",
          "text": [
            "パイナップルが含まれる\n",
            "バナナが含まれない\n"
          ]
        }
      ]
    },
    {
      "cell_type": "markdown",
      "source": [
        "## 繰り返し文（while文）"
      ],
      "metadata": {
        "id": "uR4Ymon1wRUk"
      }
    },
    {
      "cell_type": "code",
      "source": [
        "# while文は条件がtrueの間繰り返す\n",
        "\n",
        "def count(max):\n",
        "  num = 0\n",
        "  while num < max:# numがmax未満の間、繰り返す\n",
        "    print(num)\n",
        "    num += 1\n",
        "    # while繰り返し終わり\n",
        "# 関数終わり\n",
        "\n",
        "count(5)# 作成した関数に引数を引き渡して実行"
      ],
      "metadata": {
        "colab": {
          "base_uri": "https://localhost:8080/"
        },
        "id": "7dh-Y5JLvzWQ",
        "outputId": "8eb635be-44f2-473a-b93f-b86afc32cacf"
      },
      "execution_count": 16,
      "outputs": [
        {
          "output_type": "stream",
          "name": "stdout",
          "text": [
            "0\n",
            "1\n",
            "2\n",
            "3\n",
            "4\n"
          ]
        }
      ]
    },
    {
      "cell_type": "markdown",
      "source": [
        "## 繰り返し文（for文）\n",
        "\n",
        "変数βの集合から1つずつ取り出して変数αとして使う\n",
        "\n",
        "for 変数α in range(変数β):"
      ],
      "metadata": {
        "id": "tuJnOgcfyd_Z"
      }
    },
    {
      "cell_type": "code",
      "source": [
        "# 集合（コレクション）の中から取り出して繰り返し\n",
        "def every(array):\n",
        "  for x in array:# arrayの中から1つずつデータを取り出しxに代入\n",
        "    print(x)\n",
        "  # for文終わり\n",
        "# 関数終わり\n",
        "\n",
        "list = [1,2,3]\n",
        "every(list)\n",
        "tuple = (4,5,6)\n",
        "every(tuple)\n",
        "# 辞書型もコレクション\n",
        "dict = {'a':7,'b':8,'c':9}\n",
        "every(dict)# キーワードの一覧表示\n",
        "valuse = dict.values()# 値のリストを取得\n",
        "every(valuse)# 値の一覧を表示\n",
        "# 文字列も文字配列としてコレクション扱いができる\n",
        "every('dog')# d o gとして表示"
      ],
      "metadata": {
        "colab": {
          "base_uri": "https://localhost:8080/"
        },
        "id": "1oUaE-BSxwQP",
        "outputId": "9d5c90c7-9472-4a25-c344-966c02217fef"
      },
      "execution_count": 25,
      "outputs": [
        {
          "output_type": "stream",
          "name": "stdout",
          "text": [
            "1\n",
            "2\n",
            "3\n",
            "4\n",
            "5\n",
            "6\n",
            "a\n",
            "b\n",
            "c\n",
            "7\n",
            "8\n",
            "9\n",
            "d\n",
            "o\n",
            "g\n"
          ]
        }
      ]
    },
    {
      "cell_type": "code",
      "source": [
        "# カウンター変数で繰り返す\n",
        "# for  n in range(数値)0～数値未満繰り返す\n",
        "\n",
        "def count(num):\n",
        "  for i in range(num):# 0～num繰り返す\n",
        "    print(i)\n",
        "  # 繰り返しの終わり\n",
        "# 関数終わり\n",
        "\n",
        "count(3)# 3 = 0,1,2で繰り返す"
      ],
      "metadata": {
        "colab": {
          "base_uri": "https://localhost:8080/"
        },
        "id": "Kj-zjdXx0ZQk",
        "outputId": "d82a6eba-e2ec-4730-e4e4-b9e221053291"
      },
      "execution_count": 26,
      "outputs": [
        {
          "output_type": "stream",
          "name": "stdout",
          "text": [
            "0\n",
            "1\n",
            "2\n"
          ]
        }
      ]
    },
    {
      "cell_type": "markdown",
      "source": [
        "## 繰り返しを中断したいときは、break命令"
      ],
      "metadata": {
        "id": "qcRPntgC4e6x"
      }
    },
    {
      "cell_type": "code",
      "source": [
        "def stop(array):\n",
        "  for i in array:\n",
        "    if i >= 4:\n",
        "      break# ループを中断\n",
        "    print(i)\n",
        "      # 分岐終わり\n",
        "    # ループ終わり\n",
        "  # 関数終わり\n",
        "\n",
        "list = [1,2,3,4,5,1,2,3,4,5]\n",
        "stop(list)"
      ],
      "metadata": {
        "colab": {
          "base_uri": "https://localhost:8080/"
        },
        "id": "cgq4ecVJ35p8",
        "outputId": "5cf1e92f-43b1-428e-c682-526861ec03c9"
      },
      "execution_count": 31,
      "outputs": [
        {
          "output_type": "stream",
          "name": "stdout",
          "text": [
            "1\n",
            "2\n",
            "3\n"
          ]
        }
      ]
    },
    {
      "cell_type": "markdown",
      "source": [
        "## 繰り返しをスキップしたいときは、continue命令"
      ],
      "metadata": {
        "id": "Elz6W8-c6Uwx"
      }
    },
    {
      "cell_type": "code",
      "source": [
        "def skip(array):\n",
        "  for i in array:\n",
        "    if i >= 4:\n",
        "      continue# 以降のループ内処理をスキップする\n",
        "    # 分岐終わり\n",
        "    print(i)\n",
        "  # 繰り返し終わり\n",
        "# 関数終わり\n",
        "\n",
        "list = [1,2,3,4,5,1,2,3,4,5]\n",
        "skip(list)"
      ],
      "metadata": {
        "colab": {
          "base_uri": "https://localhost:8080/"
        },
        "id": "lkeqrJdQ5eRx",
        "outputId": "35d06319-2b29-42e2-f4d4-cabafb83882f"
      },
      "execution_count": 32,
      "outputs": [
        {
          "output_type": "stream",
          "name": "stdout",
          "text": [
            "1\n",
            "2\n",
            "3\n",
            "1\n",
            "2\n",
            "3\n"
          ]
        }
      ]
    },
    {
      "cell_type": "code",
      "source": [],
      "metadata": {
        "id": "_r5HlJ357b6v"
      },
      "execution_count": null,
      "outputs": []
    }
  ]
}