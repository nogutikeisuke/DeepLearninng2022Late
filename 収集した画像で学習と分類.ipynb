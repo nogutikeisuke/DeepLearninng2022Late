{
  "nbformat": 4,
  "nbformat_minor": 0,
  "metadata": {
    "colab": {
      "provenance": [],
      "authorship_tag": "ABX9TyNBDIf0w4kTneyH1ybXRgKv",
      "include_colab_link": true
    },
    "kernelspec": {
      "name": "python3",
      "display_name": "Python 3"
    },
    "language_info": {
      "name": "python"
    },
    "accelerator": "GPU",
    "gpuClass": "standard"
  },
  "cells": [
    {
      "cell_type": "markdown",
      "metadata": {
        "id": "view-in-github",
        "colab_type": "text"
      },
      "source": [
        "<a href=\"https://colab.research.google.com/github/nogutikeisuke/DeepLearninng2022Late/blob/main/%E5%8F%8E%E9%9B%86%E3%81%97%E3%81%9F%E7%94%BB%E5%83%8F%E3%81%A7%E5%AD%A6%E7%BF%92%E3%81%A8%E5%88%86%E9%A1%9E.ipynb\" target=\"_parent\"><img src=\"https://colab.research.google.com/assets/colab-badge.svg\" alt=\"Open In Colab\"/></a>"
      ]
    },
    {
      "cell_type": "code",
      "execution_count": 8,
      "metadata": {
        "id": "wHJ3daaIVD3m"
      },
      "outputs": [],
      "source": [
        "import os\n",
        "os.makedirs('sample',exist_ok=True)\n",
        "os.makedirs('output/dog/sample',exist_ok=True)\n",
        "os.makedirs('output/cat/sample',exist_ok=True)\n",
        "os.makedirs('img/deep_learning/dog',exist_ok=True)\n",
        "os.makedirs('img/deep_learning/cat',exist_ok=True)"
      ]
    },
    {
      "cell_type": "code",
      "source": [
        "import cv2\n",
        "import numpy as np\n",
        "import glob as glob\n",
        "from sklearn.model_selection import train_test_split\n",
        "from keras.utils import np_utils"
      ],
      "metadata": {
        "id": "CwaOMlhLYapW"
      },
      "execution_count": 9,
      "outputs": []
    },
    {
      "cell_type": "code",
      "source": [
        "path=\"img/deep_learning\"\n",
        "folders=os.listdir(path)\n",
        "classes = [f for f in folders if os.path.isdir(os.path.join(path,f))]\n",
        "print(classes)\n",
        "n_classes = len (classes)\n",
        "print(n_classes)"
      ],
      "metadata": {
        "colab": {
          "base_uri": "https://localhost:8080/"
        },
        "id": "WbU_kkf5ZPHA",
        "outputId": "571c6bb4-b098-467b-e548-2fed33593839"
      },
      "execution_count": 10,
      "outputs": [
        {
          "output_type": "stream",
          "name": "stdout",
          "text": [
            "['dog', 'cat']\n",
            "2\n"
          ]
        }
      ]
    },
    {
      "cell_type": "code",
      "source": [
        "X=[]\n",
        "Y=[]\n",
        "for label,class_name in enumerate(classes):\n",
        "  files = glob.glob(path+\"/\"+class_name+\"/*jpg\")\n",
        "  for file in files:\n",
        "    img =cv2.imread(file)\n",
        "    img =cv2.resize(img,dsize=(224,224))\n",
        "    X.append(img)\n",
        "    Y.append(label)"
      ],
      "metadata": {
        "id": "UwSAmkKbbUr2"
      },
      "execution_count": 11,
      "outputs": []
    },
    {
      "cell_type": "code",
      "source": [
        "X=np.array(X)\n",
        "X=X.astype('float32')\n",
        "X/=255.0\n",
        "Y=np.array(Y)\n",
        "Y=np_utils.to_categorical(Y,n_classes)"
      ],
      "metadata": {
        "id": "FGUhTXa9EexP"
      },
      "execution_count": 12,
      "outputs": []
    },
    {
      "cell_type": "code",
      "source": [
        "X_train,X_test,Y_train,Y_test=train_test_split(X,Y,test_size=0.2)\n",
        "print(X_train.shape)\n",
        "print(X_test.shape)\n",
        "print(Y_train.shape)\n",
        "print(Y_test.shape)"
      ],
      "metadata": {
        "colab": {
          "base_uri": "https://localhost:8080/"
        },
        "id": "XA637MC1GOrx",
        "outputId": "6b52f328-f5ac-4c94-f805-d8439db1ccce"
      },
      "execution_count": 13,
      "outputs": [
        {
          "output_type": "stream",
          "name": "stdout",
          "text": [
            "(120, 224, 224, 3)\n",
            "(31, 224, 224, 3)\n",
            "(120, 2)\n",
            "(31, 2)\n"
          ]
        }
      ]
    },
    {
      "cell_type": "code",
      "source": [
        "from keras.applications.vgg16 import VGG16\n",
        "from keras.models import Sequential\n",
        "from keras.models import Model\n",
        "from keras.layers import Input,Activation,Dense,Flatten,Dropout\n",
        "from keras.optimizers import Adam"
      ],
      "metadata": {
        "id": "YCyK722wIMzs"
      },
      "execution_count": 14,
      "outputs": []
    },
    {
      "cell_type": "code",
      "source": [
        "input_tensor=Input(shape=(224,224,3))\n",
        "base_model=VGG16(weights='imagenet',input_tensor=input_tensor,include_top=False)"
      ],
      "metadata": {
        "id": "EkHrenaXNKN3",
        "colab": {
          "base_uri": "https://localhost:8080/"
        },
        "outputId": "f9f90a6d-52bb-4e26-b1cd-b1bada745a4f"
      },
      "execution_count": 15,
      "outputs": [
        {
          "output_type": "stream",
          "name": "stdout",
          "text": [
            "Downloading data from https://storage.googleapis.com/tensorflow/keras-applications/vgg16/vgg16_weights_tf_dim_ordering_tf_kernels_notop.h5\n",
            "58889256/58889256 [==============================] - 2s 0us/step\n"
          ]
        }
      ]
    },
    {
      "cell_type": "code",
      "source": [
        "top_model=Sequential()\n",
        "top_model.add(Flatten(input_shape=base_model.output_shape[1:]))\n",
        "top_model.add(Dense(n_classes,activation='softmax'))"
      ],
      "metadata": {
        "id": "oaPLZ5VNWU5Z"
      },
      "execution_count": 16,
      "outputs": []
    },
    {
      "cell_type": "code",
      "source": [
        "model =Model(inputs=base_model.input,outputs=top_model(base_model.output))"
      ],
      "metadata": {
        "id": "rtKE1DqtYAR7"
      },
      "execution_count": 17,
      "outputs": []
    },
    {
      "cell_type": "code",
      "source": [
        "for layer in model.layers[:15]:\n",
        "  layer.trainable=False\n",
        "  print('# layer=',len(model.layers))"
      ],
      "metadata": {
        "id": "KlL5rOoabffh",
        "colab": {
          "base_uri": "https://localhost:8080/"
        },
        "outputId": "226e0393-d425-406a-b09d-62d1fa57fcf2"
      },
      "execution_count": 18,
      "outputs": [
        {
          "output_type": "stream",
          "name": "stdout",
          "text": [
            "# layer= 20\n",
            "# layer= 20\n",
            "# layer= 20\n",
            "# layer= 20\n",
            "# layer= 20\n",
            "# layer= 20\n",
            "# layer= 20\n",
            "# layer= 20\n",
            "# layer= 20\n",
            "# layer= 20\n",
            "# layer= 20\n",
            "# layer= 20\n",
            "# layer= 20\n",
            "# layer= 20\n",
            "# layer= 20\n"
          ]
        }
      ]
    },
    {
      "cell_type": "code",
      "source": [
        "model.compile(loss='categorical_crossentropy',\n",
        "              optimizer='adam',metrics=['accuracy'])"
      ],
      "metadata": {
        "id": "6EK-3bWqerza"
      },
      "execution_count": 19,
      "outputs": []
    },
    {
      "cell_type": "code",
      "source": [
        "model.summary()"
      ],
      "metadata": {
        "id": "L6xGTYmOfiCD",
        "colab": {
          "base_uri": "https://localhost:8080/"
        },
        "outputId": "435d9e73-6762-4919-e259-6c21f8b96ba9"
      },
      "execution_count": 20,
      "outputs": [
        {
          "output_type": "stream",
          "name": "stdout",
          "text": [
            "Model: \"model\"\n",
            "_________________________________________________________________\n",
            " Layer (type)                Output Shape              Param #   \n",
            "=================================================================\n",
            " input_1 (InputLayer)        [(None, 224, 224, 3)]     0         \n",
            "                                                                 \n",
            " block1_conv1 (Conv2D)       (None, 224, 224, 64)      1792      \n",
            "                                                                 \n",
            " block1_conv2 (Conv2D)       (None, 224, 224, 64)      36928     \n",
            "                                                                 \n",
            " block1_pool (MaxPooling2D)  (None, 112, 112, 64)      0         \n",
            "                                                                 \n",
            " block2_conv1 (Conv2D)       (None, 112, 112, 128)     73856     \n",
            "                                                                 \n",
            " block2_conv2 (Conv2D)       (None, 112, 112, 128)     147584    \n",
            "                                                                 \n",
            " block2_pool (MaxPooling2D)  (None, 56, 56, 128)       0         \n",
            "                                                                 \n",
            " block3_conv1 (Conv2D)       (None, 56, 56, 256)       295168    \n",
            "                                                                 \n",
            " block3_conv2 (Conv2D)       (None, 56, 56, 256)       590080    \n",
            "                                                                 \n",
            " block3_conv3 (Conv2D)       (None, 56, 56, 256)       590080    \n",
            "                                                                 \n",
            " block3_pool (MaxPooling2D)  (None, 28, 28, 256)       0         \n",
            "                                                                 \n",
            " block4_conv1 (Conv2D)       (None, 28, 28, 512)       1180160   \n",
            "                                                                 \n",
            " block4_conv2 (Conv2D)       (None, 28, 28, 512)       2359808   \n",
            "                                                                 \n",
            " block4_conv3 (Conv2D)       (None, 28, 28, 512)       2359808   \n",
            "                                                                 \n",
            " block4_pool (MaxPooling2D)  (None, 14, 14, 512)       0         \n",
            "                                                                 \n",
            " block5_conv1 (Conv2D)       (None, 14, 14, 512)       2359808   \n",
            "                                                                 \n",
            " block5_conv2 (Conv2D)       (None, 14, 14, 512)       2359808   \n",
            "                                                                 \n",
            " block5_conv3 (Conv2D)       (None, 14, 14, 512)       2359808   \n",
            "                                                                 \n",
            " block5_pool (MaxPooling2D)  (None, 7, 7, 512)         0         \n",
            "                                                                 \n",
            " sequential (Sequential)     (None, 2)                 50178     \n",
            "                                                                 \n",
            "=================================================================\n",
            "Total params: 14,764,866\n",
            "Trainable params: 7,129,602\n",
            "Non-trainable params: 7,635,264\n",
            "_________________________________________________________________\n"
          ]
        }
      ]
    },
    {
      "cell_type": "code",
      "source": [
        "model.fit(X_train,Y_train,epochs=20,batch_size=16)"
      ],
      "metadata": {
        "id": "PcNmmbJhfrMu",
        "colab": {
          "base_uri": "https://localhost:8080/"
        },
        "outputId": "7388c46d-094a-4972-a619-d46f6e10e3aa"
      },
      "execution_count": 21,
      "outputs": [
        {
          "output_type": "stream",
          "name": "stdout",
          "text": [
            "Epoch 1/20\n",
            "8/8 [==============================] - 11s 233ms/step - loss: 2.8920 - accuracy: 0.4917\n",
            "Epoch 2/20\n",
            "8/8 [==============================] - 1s 86ms/step - loss: 1.5292 - accuracy: 0.5000\n",
            "Epoch 3/20\n",
            "8/8 [==============================] - 1s 87ms/step - loss: 0.7276 - accuracy: 0.5333\n",
            "Epoch 4/20\n",
            "8/8 [==============================] - 1s 88ms/step - loss: 0.7018 - accuracy: 0.5333\n",
            "Epoch 5/20\n",
            "8/8 [==============================] - 1s 85ms/step - loss: 0.6931 - accuracy: 0.5333\n",
            "Epoch 6/20\n",
            "8/8 [==============================] - 1s 87ms/step - loss: 0.6928 - accuracy: 0.5333\n",
            "Epoch 7/20\n",
            "8/8 [==============================] - 1s 86ms/step - loss: 0.6927 - accuracy: 0.5333\n",
            "Epoch 8/20\n",
            "8/8 [==============================] - 1s 87ms/step - loss: 0.6928 - accuracy: 0.5333\n",
            "Epoch 9/20\n",
            "8/8 [==============================] - 1s 87ms/step - loss: 0.6926 - accuracy: 0.5333\n",
            "Epoch 10/20\n",
            "8/8 [==============================] - 1s 87ms/step - loss: 0.6925 - accuracy: 0.5333\n",
            "Epoch 11/20\n",
            "8/8 [==============================] - 1s 88ms/step - loss: 0.6924 - accuracy: 0.5333\n",
            "Epoch 12/20\n",
            "8/8 [==============================] - 1s 87ms/step - loss: 0.6922 - accuracy: 0.5333\n",
            "Epoch 13/20\n",
            "8/8 [==============================] - 1s 87ms/step - loss: 0.6922 - accuracy: 0.5333\n",
            "Epoch 14/20\n",
            "8/8 [==============================] - 1s 86ms/step - loss: 0.6921 - accuracy: 0.5333\n",
            "Epoch 15/20\n",
            "8/8 [==============================] - 1s 87ms/step - loss: 0.6921 - accuracy: 0.5333\n",
            "Epoch 16/20\n",
            "8/8 [==============================] - 1s 87ms/step - loss: 0.6920 - accuracy: 0.5333\n",
            "Epoch 17/20\n",
            "8/8 [==============================] - 1s 85ms/step - loss: 0.6919 - accuracy: 0.5333\n",
            "Epoch 18/20\n",
            "8/8 [==============================] - 1s 86ms/step - loss: 0.6918 - accuracy: 0.5333\n",
            "Epoch 19/20\n",
            "8/8 [==============================] - 1s 86ms/step - loss: 0.6918 - accuracy: 0.5333\n",
            "Epoch 20/20\n",
            "8/8 [==============================] - 1s 86ms/step - loss: 0.6917 - accuracy: 0.5333\n"
          ]
        },
        {
          "output_type": "execute_result",
          "data": {
            "text/plain": [
              "<keras.callbacks.History at 0x7fcdd00dc340>"
            ]
          },
          "metadata": {},
          "execution_count": 21
        }
      ]
    },
    {
      "cell_type": "code",
      "source": [
        "score=model.evaluate(X_test,Y_test,batch_size=16)"
      ],
      "metadata": {
        "id": "Czxo-ozEgobB",
        "colab": {
          "base_uri": "https://localhost:8080/"
        },
        "outputId": "36212ac5-cc30-49b8-a601-bae7f934c30d"
      },
      "execution_count": 22,
      "outputs": [
        {
          "output_type": "stream",
          "name": "stdout",
          "text": [
            "2/2 [==============================] - 2s 2s/step - loss: 0.6997 - accuracy: 0.3871\n"
          ]
        }
      ]
    },
    {
      "cell_type": "code",
      "source": [
        "import pickle\n",
        "pickle.dump(classes,open('classes.sav','wb'))\n",
        "model.save('cnn.h5')"
      ],
      "metadata": {
        "id": "Tp2jw5leiQUt"
      },
      "execution_count": 23,
      "outputs": []
    },
    {
      "cell_type": "code",
      "source": [
        "from keras.models import load_model\n",
        "import pickle\n",
        "import cv2\n",
        "import glob"
      ],
      "metadata": {
        "id": "1Gg6BOylj6Mr"
      },
      "execution_count": 24,
      "outputs": []
    },
    {
      "cell_type": "code",
      "source": [
        "model=load_model('cnn.h5')\n",
        "classes=pickle.load(open('classes.sav','rb'))"
      ],
      "metadata": {
        "id": "qFKkQQw1kwXH"
      },
      "execution_count": 25,
      "outputs": []
    },
    {
      "cell_type": "code",
      "source": [
        "files=glob.glob('sample/*')\n",
        "print(files)"
      ],
      "metadata": {
        "id": "LTSriqYNlB0z",
        "colab": {
          "base_uri": "https://localhost:8080/"
        },
        "outputId": "90ebf5ac-f9dc-4db9-f667-616530d6195c"
      },
      "execution_count": 29,
      "outputs": [
        {
          "output_type": "stream",
          "name": "stdout",
          "text": [
            "['sample/dog_5.jpg', 'sample/dog_6.jpg', 'sample/dog_65.jpg']\n"
          ]
        }
      ]
    },
    {
      "cell_type": "code",
      "source": [
        "img=cv2.imread(file)\n",
        "img2=cv2.resize(img,dsize=(224,224))\n",
        "img2=img2.astype('float32')\n",
        "img2=img2/255.0\n",
        "img2=img2[None,...]\n",
        "result=model.predict(img2)\n",
        "print(result)\n",
        "pred=result.argmax()\n",
        "print(pred,str(classes[pred]))\n",
        "cv2.imwrite('output/'+str(classes[pred])+'/'+file,img)"
      ],
      "metadata": {
        "colab": {
          "base_uri": "https://localhost:8080/"
        },
        "id": "ysmyTjbiVJwC",
        "outputId": "e495eeb2-fef5-410a-c2e5-d7880501b6ae"
      },
      "execution_count": 37,
      "outputs": [
        {
          "output_type": "stream",
          "name": "stdout",
          "text": [
            "1/1 [==============================] - 0s 17ms/step\n",
            "[[0.5136269  0.48637313]]\n",
            "0 dog\n"
          ]
        },
        {
          "output_type": "execute_result",
          "data": {
            "text/plain": [
              "False"
            ]
          },
          "metadata": {},
          "execution_count": 37
        }
      ]
    },
    {
      "cell_type": "code",
      "source": [],
      "metadata": {
        "id": "kxMPwN80Zq8c"
      },
      "execution_count": null,
      "outputs": []
    }
  ]
}