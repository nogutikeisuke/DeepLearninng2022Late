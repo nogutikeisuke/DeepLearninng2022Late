{
  "nbformat": 4,
  "nbformat_minor": 0,
  "metadata": {
    "colab": {
      "provenance": [],
      "authorship_tag": "ABX9TyMsUtzcjLbpHWFbVo+10+w+",
      "include_colab_link": true
    },
    "kernelspec": {
      "name": "python3",
      "display_name": "Python 3"
    },
    "language_info": {
      "name": "python"
    }
  },
  "cells": [
    {
      "cell_type": "markdown",
      "metadata": {
        "id": "view-in-github",
        "colab_type": "text"
      },
      "source": [
        "<a href=\"https://colab.research.google.com/github/nogutikeisuke/DeepLearninng2022Late/blob/main/%E3%83%86%E3%82%B9%E3%83%880913_02.ipynb\" target=\"_parent\"><img src=\"https://colab.research.google.com/assets/colab-badge.svg\" alt=\"Open In Colab\"/></a>"
      ]
    },
    {
      "cell_type": "markdown",
      "source": [
        "#辞書型(dictionary)\n",
        "キーと値のペアで管理する"
      ],
      "metadata": {
        "id": "_7qyS0cUzkk-"
      }
    },
    {
      "cell_type": "markdown",
      "source": [
        "###辞書型の定義文###"
      ],
      "metadata": {
        "id": "AnwGctuvz7F7"
      }
    },
    {
      "cell_type": "code",
      "source": [
        "#辞書型のデータを作って変数dictに代入\n",
        "#{キーワード：値、'キーワード':値}でデータを管理\n",
        "dict = {'アップル':1,'ペン':2,'パイナップ':3}\n",
        "print(dict)\n",
        "#値を利用するときは、キーワードで指定\n",
        "print(dict['ペン'])"
      ],
      "metadata": {
        "colab": {
          "base_uri": "https://localhost:8080/"
        },
        "id": "vbLdKklX0Cki",
        "outputId": "c322d87e-7e97-45d5-bb62-5b1e4ae9a738"
      },
      "execution_count": 2,
      "outputs": [
        {
          "output_type": "stream",
          "name": "stdout",
          "text": [
            "{'アップル': 1, 'ペン': 2, 'パイナップ': 3}\n",
            "2\n"
          ]
        }
      ]
    },
    {
      "cell_type": "markdown",
      "source": [
        "##辞書型のキーワード一覧、値一覧を取得する##"
      ],
      "metadata": {
        "id": "wZa5-yBj1R5M"
      }
    },
    {
      "cell_type": "code",
      "source": [
        "print(dict)\n",
        "#dictに入っているキーの一覧\n",
        "print(dict.keys())\n",
        "#dictに入っている値の一覧\n",
        "dict.values()"
      ],
      "metadata": {
        "colab": {
          "base_uri": "https://localhost:8080/"
        },
        "id": "dzVpkBZP120A",
        "outputId": "f926a679-8c9e-481f-b28d-065968dcfc4a"
      },
      "execution_count": 3,
      "outputs": [
        {
          "output_type": "stream",
          "name": "stdout",
          "text": [
            "{'アップル': 1, 'ペン': 2, 'パイナップ': 3}\n",
            "dict_keys(['アップル', 'ペン', 'パイナップ'])\n"
          ]
        },
        {
          "output_type": "execute_result",
          "data": {
            "text/plain": [
              "dict_values([1, 2, 3])"
            ]
          },
          "metadata": {},
          "execution_count": 3
        }
      ]
    },
    {
      "cell_type": "markdown",
      "source": [
        "###辞書型の追加・削除・更新###"
      ],
      "metadata": {
        "id": "fov5TZod1tL0"
      }
    },
    {
      "cell_type": "code",
      "source": [
        "print(dict)\n",
        "#dictにバナナというキーワードで値5を追加\n",
        "#print(dict.kyes())\n",
        "dict['バナナ']=5\n",
        "print(dict)\n",
        "#キーワードがすでにあったら、そのキーワードの値を更新\n",
        "dict['バナナ']=100\n",
        "print(dict)\n",
        "#キーワードで指定したペアを削除\n",
        "dict.pop('バナナ')\n",
        "print(dict)"
      ],
      "metadata": {
        "colab": {
          "base_uri": "https://localhost:8080/"
        },
        "id": "JSWB_KOx1p8_",
        "outputId": "720e8c8c-956e-405f-8bfc-2e64d2b61c7e"
      },
      "execution_count": 4,
      "outputs": [
        {
          "output_type": "stream",
          "name": "stdout",
          "text": [
            "{'アップル': 1, 'ペン': 2, 'パイナップ': 3}\n",
            "{'アップル': 1, 'ペン': 2, 'パイナップ': 3, 'バナナ': 5}\n",
            "{'アップル': 1, 'ペン': 2, 'パイナップ': 3, 'バナナ': 100}\n",
            "{'アップル': 1, 'ペン': 2, 'パイナップ': 3}\n"
          ]
        }
      ]
    },
    {
      "cell_type": "markdown",
      "source": [
        "#文字列の整形\n",
        "##文字列の連結と繰り返し##"
      ],
      "metadata": {
        "id": "yJX87xBC4aH-"
      }
    },
    {
      "cell_type": "code",
      "source": [
        "#文字列の連結方法①\n",
        "apple='アップル'\n",
        "pen='ペン'\n",
        "print(apple + pen)#プラス記号で連結\n",
        "#文字列の連結方法②文字列を連結する\n",
        "piko=['ペン','パイナップル','アップル','ペン']\n",
        "#printメソッドで連結して表示　例）　,　で連結\n",
        "print( ',' .join(piko) )\n",
        "#回数を指定してメッセージを表示\n",
        "pon='ポン'\n",
        "print(pon*3)"
      ],
      "metadata": {
        "colab": {
          "base_uri": "https://localhost:8080/"
        },
        "id": "bqceloiF2-PA",
        "outputId": "875fd8e7-7cfe-4f74-a800-39f9e4359a81"
      },
      "execution_count": 5,
      "outputs": [
        {
          "output_type": "stream",
          "name": "stdout",
          "text": [
            "アップルペン\n",
            "ペン,パイナップル,アップル,ペン\n",
            "ポンポンポン\n"
          ]
        }
      ]
    },
    {
      "cell_type": "markdown",
      "source": [
        "###【重要】文字列の整形（フォーマット）###"
      ],
      "metadata": {
        "id": "LFKeFuN36-EB"
      }
    },
    {
      "cell_type": "code",
      "source": [
        "#定式で指定した形のメッセージにする\n",
        "print('{}{}:{}円')\n",
        "#スロットを定義した順番に、その数だけデータを引き渡して文章を組み立てる\n",
        "print('{}{}:{}円'.format('アップル','ペン',100))\n",
        "#スロットの値のインデックスで指定することもできる\n",
        "print('{1}{2}:{0}円'.format(100,'アップル','ペン'))"
      ],
      "metadata": {
        "colab": {
          "base_uri": "https://localhost:8080/"
        },
        "id": "RKZsUlun5NX3",
        "outputId": "61553e0c-e59f-43c2-8762-e2d1437bdebb"
      },
      "execution_count": 6,
      "outputs": [
        {
          "output_type": "stream",
          "name": "stdout",
          "text": [
            "{}{}:{}円\n",
            "アップルペン:100円\n",
            "アップルペン:100円\n"
          ]
        }
      ]
    },
    {
      "cell_type": "markdown",
      "source": [
        "# コレクション演算\n",
        "リスト、タプル、つまり順番がある集合のことをシーケンスという。\n",
        "順番がない集合を集合型（セット）という。\n",
        "上記２種類をまとめてコレクションという。\n",
        "コレクションは共通の演算が使える。\n",
        "len（長さ、量を取得）。max（最大値を取得）、min（最小値を取得）など"
      ],
      "metadata": {
        "id": "43k98JbHWzqN"
      }
    },
    {
      "cell_type": "code",
      "source": [
        "list = [1,1,2,3,4,5]#6つの要素\n",
        "tuple = (10,9,7,7,8,8,9)#7つの要素\n",
        "set = {1,-2,3,-4,5,-6,7,-8}#8つの要素\n",
        "#リストの長さ、最大値、最小値\n",
        "print(len(list),max(list),min(list))\n",
        "#タプルの長さ、最大値、最小値\n",
        "print(len(tuple),max(tuple),min(tuple))\n",
        "#セットの長さ（量）、最大値、最小値\n",
        "print(len(set),max(set),min(set))"
      ],
      "metadata": {
        "id": "kUH7E9hc8F8S",
        "colab": {
          "base_uri": "https://localhost:8080/"
        },
        "outputId": "112e2fc1-c3ea-4304-89ad-7de468077596"
      },
      "execution_count": 10,
      "outputs": [
        {
          "output_type": "stream",
          "name": "stdout",
          "text": [
            "6 5 1\n",
            "7 10 7\n",
            "8 7 -8\n"
          ]
        }
      ]
    },
    {
      "cell_type": "code",
      "source": [],
      "metadata": {
        "id": "Nrmd1Mq-Yx0-"
      },
      "execution_count": null,
      "outputs": []
    }
  ]
}