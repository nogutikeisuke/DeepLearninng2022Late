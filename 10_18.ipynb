{
  "nbformat": 4,
  "nbformat_minor": 0,
  "metadata": {
    "colab": {
      "provenance": [],
      "authorship_tag": "ABX9TyOhKL+uTVSyziRqcYPBCYav",
      "include_colab_link": true
    },
    "kernelspec": {
      "name": "python3",
      "display_name": "Python 3"
    },
    "language_info": {
      "name": "python"
    }
  },
  "cells": [
    {
      "cell_type": "markdown",
      "metadata": {
        "id": "view-in-github",
        "colab_type": "text"
      },
      "source": [
        "<a href=\"https://colab.research.google.com/github/nogutikeisuke/DeepLearninng2022Late/blob/main/10_18.ipynb\" target=\"_parent\"><img src=\"https://colab.research.google.com/assets/colab-badge.svg\" alt=\"Open In Colab\"/></a>"
      ]
    },
    {
      "cell_type": "code",
      "execution_count": 1,
      "metadata": {
        "id": "6bBUsZI_hjCd"
      },
      "outputs": [],
      "source": [
        "import numpy as np"
      ]
    },
    {
      "cell_type": "code",
      "source": [
        "import numpy as  np\n",
        "x = np.array([1.0, 2.0, 3.0, 4.0, 5.0])\n",
        "print(x)\n",
        "\n",
        "x = np.array([1,2,3])\n",
        "print(x) \n",
        "print(type(x))\n",
        "\n",
        "my_list1 = [1,2,3,4,5]\n",
        "my_array1 = np.array(my_list1)\n",
        "\n",
        "my_list2 = [10,20,30,40,50]\n",
        "my_lists = [my_list1, my_list2]\n",
        "my_lists # [[1, 2, 3, 4, 5], [10, 20, 30, 40, 50]]\n",
        "my_array2 = np.array(my_lists)\n",
        "\n",
        "my_array2"
      ],
      "metadata": {
        "colab": {
          "base_uri": "https://localhost:8080/"
        },
        "id": "8fyiu8d-hvko",
        "outputId": "ac98740f-c409-4b10-9e7d-f0f1a551becb"
      },
      "execution_count": 3,
      "outputs": [
        {
          "output_type": "stream",
          "name": "stdout",
          "text": [
            "[1. 2. 3. 4. 5.]\n",
            "[1 2 3]\n",
            "<class 'numpy.ndarray'>\n"
          ]
        },
        {
          "output_type": "execute_result",
          "data": {
            "text/plain": [
              "array([[ 1,  2,  3,  4,  5],\n",
              "       [10, 20, 30, 40, 50]])"
            ]
          },
          "metadata": {},
          "execution_count": 3
        }
      ]
    },
    {
      "cell_type": "code",
      "source": [
        "import numpy as np\n",
        "a = np.array([1, 2, 3, 4])\n",
        "a.shape \n",
        "\n",
        "b = np.array([[1, 2],[3,4]])\n",
        "b.shape "
      ],
      "metadata": {
        "colab": {
          "base_uri": "https://localhost:8080/"
        },
        "id": "p26_S8kBjg-w",
        "outputId": "675c41eb-755a-4203-bb24-4e3d6481195a"
      },
      "execution_count": 4,
      "outputs": [
        {
          "output_type": "execute_result",
          "data": {
            "text/plain": [
              "(2, 2)"
            ]
          },
          "metadata": {},
          "execution_count": 4
        }
      ]
    },
    {
      "cell_type": "code",
      "source": [
        "import numpy as  np\n",
        "\n",
        "x = np.arange(10)\n",
        "print(x)\n",
        "\n",
        "x = np.arange(1, 10).reshape(3,3)\n",
        "y = np.arange(1, 10).reshape(3,3)\n",
        "\n",
        "print(x)\n",
        "print(y)\n",
        "\n",
        "print(x + y)\n",
        "print(x - y)\n",
        "print(x * y)"
      ],
      "metadata": {
        "colab": {
          "base_uri": "https://localhost:8080/"
        },
        "id": "krs1G6yKkCnL",
        "outputId": "e8457b8b-b614-44ae-c925-a4a7a645b431"
      },
      "execution_count": 5,
      "outputs": [
        {
          "output_type": "stream",
          "name": "stdout",
          "text": [
            "[0 1 2 3 4 5 6 7 8 9]\n",
            "[[1 2 3]\n",
            " [4 5 6]\n",
            " [7 8 9]]\n",
            "[[1 2 3]\n",
            " [4 5 6]\n",
            " [7 8 9]]\n",
            "[[ 2  4  6]\n",
            " [ 8 10 12]\n",
            " [14 16 18]]\n",
            "[[0 0 0]\n",
            " [0 0 0]\n",
            " [0 0 0]]\n",
            "[[ 1  4  9]\n",
            " [16 25 36]\n",
            " [49 64 81]]\n"
          ]
        }
      ]
    },
    {
      "cell_type": "code",
      "source": [
        "import numpy as np\n",
        "sample_array = np.arange(10)\n",
        "print(sample_array)\n",
        "\n",
        "sample_array2 = sample_array.reshape(2,5)\n",
        "print(sample_array2)\n",
        "\n",
        "sample_array3 = np.array([[1,2,3],[4,5,6]])\n",
        "sample_array4 = np.array([[7,8,9],[10,11,12]])\n",
        "\n",
        "print(np.concatenate([sample_array3,sample_array4],axis=1))\n",
        "\n",
        "print(np.hstack((sample_array3,sample_array4)))\n",
        "\n",
        "print(np.concatenate([sample_array3,sample_array4],axis=0))\n",
        "\n",
        "print(np.vstack((sample_array3,sample_array4)))"
      ],
      "metadata": {
        "colab": {
          "base_uri": "https://localhost:8080/"
        },
        "id": "6-qzbgR9kR6K",
        "outputId": "03ea178e-4c54-4e9b-8429-3747e3e4fdc4"
      },
      "execution_count": 6,
      "outputs": [
        {
          "output_type": "stream",
          "name": "stdout",
          "text": [
            "[0 1 2 3 4 5 6 7 8 9]\n",
            "[[0 1 2 3 4]\n",
            " [5 6 7 8 9]]\n",
            "[[ 1  2  3  7  8  9]\n",
            " [ 4  5  6 10 11 12]]\n",
            "[[ 1  2  3  7  8  9]\n",
            " [ 4  5  6 10 11 12]]\n",
            "[[ 1  2  3]\n",
            " [ 4  5  6]\n",
            " [ 7  8  9]\n",
            " [10 11 12]]\n",
            "[[ 1  2  3]\n",
            " [ 4  5  6]\n",
            " [ 7  8  9]\n",
            " [10 11 12]]\n"
          ]
        }
      ]
    },
    {
      "cell_type": "code",
      "source": [
        "import numpy as np\n",
        "\n",
        "sample_array = np.arange(10)\n",
        "print(sample_array)\n",
        "\n",
        "print(sample_array + 5)"
      ],
      "metadata": {
        "colab": {
          "base_uri": "https://localhost:8080/"
        },
        "id": "HPAdfeKjkhWi",
        "outputId": "19ca43e6-7e5d-4e26-e0c6-46aaac3a874f"
      },
      "execution_count": 7,
      "outputs": [
        {
          "output_type": "stream",
          "name": "stdout",
          "text": [
            "[0 1 2 3 4 5 6 7 8 9]\n",
            "[ 5  6  7  8  9 10 11 12 13 14]\n"
          ]
        }
      ]
    },
    {
      "cell_type": "code",
      "source": [
        "import numpy as np\n",
        "\n",
        "n1 = np.array([1,2,3,4,5])\n",
        "print(n1)\n",
        "\n",
        "np.ndim(n1)\n",
        "\n",
        "n1.shape \n",
        "\n",
        "n2 = np.array([[1,2], [3,4], [5,6]])\n",
        "print(n2)\n",
        "\n",
        "print(n2.ndim)"
      ],
      "metadata": {
        "colab": {
          "base_uri": "https://localhost:8080/"
        },
        "id": "3ooq3SXWkxP3",
        "outputId": "f57a4d11-56f9-4a33-eb11-ac59325dad19"
      },
      "execution_count": 8,
      "outputs": [
        {
          "output_type": "stream",
          "name": "stdout",
          "text": [
            "[1 2 3 4 5]\n",
            "[[1 2]\n",
            " [3 4]\n",
            " [5 6]]\n",
            "2\n"
          ]
        }
      ]
    },
    {
      "cell_type": "code",
      "source": [
        "import numpy as np\n",
        "my_li1 = [-1,4]\n",
        "\n",
        "my_li2 = [3,2]\n",
        "\n",
        "my_li3 = [2,5]\n",
        "\n",
        "my_li4 = [0,1]\n",
        "\n",
        "my_lists = [my_li1,my_li2,my_li3,my_li4]\n",
        "\n",
        "my_array3 = np.array(my_lists)\n",
        "\n",
        "my_array3"
      ],
      "metadata": {
        "colab": {
          "base_uri": "https://localhost:8080/"
        },
        "id": "J6WIRSVBlF_d",
        "outputId": "90ac9fed-1189-4faa-f9ea-a05cec7b1f3a"
      },
      "execution_count": 10,
      "outputs": [
        {
          "output_type": "execute_result",
          "data": {
            "text/plain": [
              "array([[-1,  4],\n",
              "       [ 3,  2],\n",
              "       [ 2,  5],\n",
              "       [ 0,  1]])"
            ]
          },
          "metadata": {},
          "execution_count": 10
        }
      ]
    },
    {
      "cell_type": "code",
      "source": [],
      "metadata": {
        "id": "dU2iyWS0lkCn"
      },
      "execution_count": null,
      "outputs": []
    }
  ]
}